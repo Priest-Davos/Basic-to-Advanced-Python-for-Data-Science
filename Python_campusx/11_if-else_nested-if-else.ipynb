{
 "cells": [
  {
   "cell_type": "markdown",
   "metadata": {},
   "source": [
    "The `if-else` statement in Python is used to make decisions in your code based on certain conditions. It allows you to execute a block of code if a specified condition is true, and optionally execute another block of code if the condition is false.\n",
    "\n",
    "### Syntax\n",
    "\n",
    "```python\n",
    "if condition:\n",
    "    # Block of code to execute if condition is true\n",
    "else:\n",
    "    # Block of code to execute if condition is false\n",
    "```\n",
    "\n",
    "### Flowchart\n",
    "\n",
    "Here's a simplified flowchart to illustrate the `if-else` statement:\n",
    "\n",
    "```\n",
    "    [Start]\n",
    "       |\n",
    "    [Condition]\n",
    "       |\n",
    "     True / \\\n",
    "      /      \\ False\n",
    "     /        \\\n",
    "[Execute if   [Execute else\n",
    " block]       block]\n",
    "     \\        /\n",
    "      \\      /\n",
    "       [End]\n",
    "```\n"
   ]
  },
  {
   "cell_type": "code",
   "execution_count": 1,
   "metadata": {},
   "outputs": [
    {
     "name": "stdout",
     "output_type": "stream",
     "text": [
      "You are an adult.\n"
     ]
    }
   ],
   "source": [
    "\n",
    "### Example\n",
    "\n",
    "\n",
    "age = 20\n",
    "\n",
    "if age >= 18:\n",
    "    print(\"You are an adult.\")\n",
    "else:\n",
    "    print(\"You are a minor.\")\n",
    "\n",
    "\n"
   ]
  },
  {
   "cell_type": "markdown",
   "metadata": {},
   "source": [
    "\n",
    "### Using `if-elif-else`\n",
    "\n",
    "You can also use `elif` (short for \"else if\") to check multiple conditions sequentially:\n"
   ]
  },
  {
   "cell_type": "code",
   "execution_count": 2,
   "metadata": {},
   "outputs": [
    {
     "name": "stdout",
     "output_type": "stream",
     "text": [
      "Grade: B\n"
     ]
    }
   ],
   "source": [
    "score = 85\n",
    "\n",
    "if score >= 90:\n",
    "    print(\"Grade: A\")\n",
    "elif score >= 80:\n",
    "    print(\"Grade: B\")\n",
    "elif score >= 70:\n",
    "    print(\"Grade: C\")\n",
    "elif score >= 60:\n",
    "    print(\"Grade: D\")\n",
    "else:\n",
    "    print(\"Grade: F\")\n"
   ]
  },
  {
   "cell_type": "markdown",
   "metadata": {},
   "source": [
    "\n",
    "### Nested `if-else`\n",
    "\n",
    "You can nest `if-else` statements within each other to handle more complex conditions:\n",
    "\n"
   ]
  },
  {
   "cell_type": "code",
   "execution_count": 3,
   "metadata": {},
   "outputs": [
    {
     "name": "stdout",
     "output_type": "stream",
     "text": [
      "The number is positive and odd.\n"
     ]
    }
   ],
   "source": [
    "number = 15\n",
    "\n",
    "if number > 0:\n",
    "    if number % 2 == 0:\n",
    "        print(\"The number is positive and even.\")\n",
    "    else:\n",
    "        print(\"The number is positive and odd.\")\n",
    "else:\n",
    "    if number == 0:\n",
    "        print(\"The number is zero.\")\n",
    "    else:\n",
    "        print(\"The number is negative.\")\n",
    "\n"
   ]
  },
  {
   "cell_type": "markdown",
   "metadata": {},
   "source": [
    "\n",
    "### Summary\n",
    "\n",
    "- The `if-else` statement is used for conditional execution.\n",
    "- `if` checks a condition and executes the associated block if the condition is true.\n",
    "- `else` provides an alternative block to execute if the condition is false.\n",
    "- `elif` allows for checking multiple conditions sequentially.\n",
    "- You can nest `if-else` statements to handle more complex conditions.\n",
    "- User input can be used in `if-else` statements to make dynamic decisions.\n",
    "\n",
    "This structure allows you to create programs that can react differently based on varying conditions, making your code more flexible and powerful."
   ]
  },
  {
   "cell_type": "markdown",
   "metadata": {},
   "source": [
    "- xample"
   ]
  },
  {
   "cell_type": "code",
   "execution_count": 10,
   "metadata": {},
   "outputs": [
    {
     "name": "stdout",
     "output_type": "stream",
     "text": [
      "invalid email\n"
     ]
    }
   ],
   "source": [
    "correct_email=\"xxx@gmail.com\"\n",
    "correct_password=\"xxx\"\n",
    "email=input(\"Enter the email\")\n",
    "if \"@\"  in email:\n",
    "  password=input(\"Enter the password\")\n",
    "  if email==correct_email and password==correct_password:\n",
    "    print(\"login successfull\")\n",
    "  elif email==correct_email and password != correct_password:\n",
    "    print(\"password is incorrect\")\n",
    "    password=input(\"Enter the password\")\n",
    "    if password is correct_password:\n",
    "      print(\"login successfull\")\n",
    "    else :\n",
    "      print(\"2nd attempt failed\")\n",
    "  else:\n",
    "    print(\"invalid credentials\")\n",
    "else:\n",
    "  print(\"invalid email\")"
   ]
  },
  {
   "cell_type": "markdown",
   "metadata": {},
   "source": [
    "\n",
    "\n",
    "### How above Code Works\n",
    "\n",
    "1. **Initial Email Check**:\n",
    "    - The code first checks if the input email contains an `@` symbol to ensure it's a valid email format.\n",
    "\n",
    "2. **Password Verification**:\n",
    "    - If the email contains an `@`, the code prompts the user to enter a password.\n",
    "    - The code then checks if both the email and password match the correct credentials.\n",
    "    - If the email matches but the password is incorrect, the user is given a second chance to enter the correct password.\n",
    "\n",
    "3. **Error Messages**:\n",
    "    - If the email format is invalid, an error message is displayed.\n",
    "    - If the credentials are invalid or the password is incorrect after the second attempt, appropriate error messages are displayed."
   ]
  }
 ],
 "metadata": {
  "kernelspec": {
   "display_name": "Python 3",
   "language": "python",
   "name": "python3"
  },
  "language_info": {
   "codemirror_mode": {
    "name": "ipython",
    "version": 3
   },
   "file_extension": ".py",
   "mimetype": "text/x-python",
   "name": "python",
   "nbconvert_exporter": "python",
   "pygments_lexer": "ipython3",
   "version": "3.12.2"
  }
 },
 "nbformat": 4,
 "nbformat_minor": 2
}
