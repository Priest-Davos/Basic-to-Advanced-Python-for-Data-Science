{
 "cells": [
  {
   "cell_type": "markdown",
   "metadata": {},
   "source": [
    "### Mutable and Immutable Types\n",
    "\n",
    "**Mutable** and **immutable** are terms used to describe whether an object can be changed after it is created. Understanding these concepts is important in Python programming.\n",
    "***\n",
    "### Mutable Objects\n",
    "\n",
    "**Mutable objects** are those that can be modified after creation. This means you can change, add, or remove elements from these objects without creating a new object.\n",
    "\n",
    "#### Examples of Mutable Objects:\n",
    "\n"
   ]
  },
  {
   "cell_type": "markdown",
   "metadata": {},
   "source": [
    "1. **Lists**"
   ]
  },
  {
   "cell_type": "code",
   "execution_count": 59,
   "metadata": {},
   "outputs": [
    {
     "name": "stdout",
     "output_type": "stream",
     "text": [
      "my_list address->  2253614434304\n",
      "[0, 2, 3]\n",
      "my_list address after modification ->  2253614434304\n",
      "\n",
      "Here address  after creation of list and address after modication is same , that proves lists are mutables\n",
      "\n",
      " 2253614313792\n"
     ]
    }
   ],
   "source": [
    "my_list = [1, 2, 3]\n",
    "print(\"my_list address-> \",id(my_list))\n",
    "\n",
    "my_list[0] = 0      # Changing the first element\n",
    "my_list.append(4)   # Adding a new element\n",
    "my_list.pop()       # Removing the last element\n",
    "print(my_list)      # Output: [0, 2, 3]\n",
    "\n",
    "print(\"my_list address after modification -> \",id(my_list))\n",
    "print(\"\\nHere address  after creation of list and address after modication is same , that proves lists are mutables\")\n",
    "\n",
    "# Note -> when we concatenate list then it create a new list  which will point to different address\n",
    "new_list=my_list+[8,9,0]\n",
    "print(\"\\n\",id(new_list))"
   ]
  },
  {
   "cell_type": "markdown",
   "metadata": {},
   "source": [
    "2. **Dictionaries**"
   ]
  },
  {
   "cell_type": "code",
   "execution_count": 34,
   "metadata": {},
   "outputs": [
    {
     "name": "stdout",
     "output_type": "stream",
     "text": [
      "my_dict address after creation->  2253614205056\n",
      "{'a': 0, 'c': 3}\n",
      "my_dict address after modification ->  2253614205056\n",
      "\n",
      "Here address  after creation of my_dict and address after modication is same , that proves dictionaries are mutables\n"
     ]
    }
   ],
   "source": [
    "my_dict = {\"a\": 1, \"b\": 2}\n",
    "print(\"my_dict address after creation-> \",id(my_dict))\n",
    "my_dict[\"a\"] = 0      # Changing the value of key 'a'\n",
    "my_dict[\"c\"] = 3      # Adding a new key-value pair\n",
    "del my_dict[\"b\"]      # Removing a key-value pair\n",
    "print(my_dict)        # Output: {'a': 0, 'c': 3}\n",
    "\n",
    "print(\"my_dict address after modification -> \",id(my_dict))\n",
    "\n",
    "print(\"\\nHere address  after creation of my_dict and address after modication is same , that proves dictionaries are mutables\")\n"
   ]
  },
  {
   "cell_type": "markdown",
   "metadata": {},
   "source": [
    "3. **Sets**"
   ]
  },
  {
   "cell_type": "code",
   "execution_count": 39,
   "metadata": {},
   "outputs": [
    {
     "name": "stdout",
     "output_type": "stream",
     "text": [
      "my_set ress after creation ->  2253614099008\n",
      "{1, 3, 4}\n",
      "my_set addresss after modification ->  2253614099008\n",
      "\n",
      "Here address,  after creation of my_set address  and after modication is same , that proves sets are mutables\n"
     ]
    }
   ],
   "source": [
    "my_set = {1, 2, 3}\n",
    "print(\"my_set ress after creation -> \",id(my_set))\n",
    "\n",
    "my_set.add(4)         # Adding an element\n",
    "my_set.remove(2)      # Removing an element\n",
    "print(my_set)         # Output: {1, 3, 4}\n",
    "\n",
    "print(\"my_set addresss after modification -> \",id(my_set))\n",
    "print(\"\\nHere address,  after creation of my_set address  and after modication is same , that proves sets are mutables\")\n"
   ]
  },
  {
   "cell_type": "markdown",
   "metadata": {},
   "source": [
    "4. **Byte Arrays**"
   ]
  },
  {
   "cell_type": "code",
   "execution_count": 40,
   "metadata": {},
   "outputs": [
    {
     "name": "stdout",
     "output_type": "stream",
     "text": [
      "my_set address just after creation ->  2253614445680\n",
      "bytearray(b'Hello')\n",
      "my_bytearray address after modification ->  2253614445680\n",
      "\n",
      "Here address,  after creation of my_bytearray address  and after modication is same , that proves Byte Arrays are mutables\n"
     ]
    }
   ],
   "source": [
    "my_bytearray = bytearray(b\"hello\")\n",
    "print(\"my_set address just after creation -> \",id(my_bytearray))\n",
    "my_bytearray[0] = ord(\"H\")  # Modifying an element\n",
    "print(my_bytearray)         # Output: bytearray(b'Hello')\n",
    "print(\"my_bytearray address after modification -> \",id(my_bytearray))\n",
    "\n",
    "print(\"\\nHere address,  after creation of my_bytearray  and after modication is same , that proves Byte Arrays are mutables\")\n"
   ]
  },
  {
   "cell_type": "markdown",
   "metadata": {},
   "source": [
    "5. **User-Defined Classes/Objects**\n",
    " - Depending on their implementation, objects of user-defined classes can be mutable if they allow changes to their attributes after creation."
   ]
  },
  {
   "cell_type": "code",
   "execution_count": null,
   "metadata": {},
   "outputs": [],
   "source": []
  },
  {
   "cell_type": "markdown",
   "metadata": {},
   "source": [
    "\n",
    "### Immutable Objects\n",
    "**Immutable objects** are those that cannot be changed after creation. Any modification to an immutable object results in a new object being created.\n",
    "\n",
    "#### Examples of Immutable Objects:"
   ]
  },
  {
   "cell_type": "markdown",
   "metadata": {},
   "source": [
    "1. **Numbers (integers, floats, complex numbers)**"
   ]
  },
  {
   "cell_type": "code",
   "execution_count": 43,
   "metadata": {},
   "outputs": [
    {
     "name": "stdout",
     "output_type": "stream",
     "text": [
      "x address just after creation ->  140735853007944\n",
      "11\n",
      "x address after modification ->  140735853007976\n",
      "\n",
      "Here address,  after creation of x  and after modication is different , that proves Numbers  are immutables\n"
     ]
    }
   ],
   "source": [
    "x = 10\n",
    "print(\"x address just after creation -> \",id(x))\n",
    "x = x + 1         # Creates a new integer object\n",
    "print(x)          # Output: 11\n",
    "print(\"x address after modification -> \",id(x))\n",
    "\n",
    "print(\"\\nHere address,  after creation of x  and after modication is different , that proves Numbers  are immutables\")\n"
   ]
  },
  {
   "cell_type": "markdown",
   "metadata": {},
   "source": [
    "2. **Strings**"
   ]
  },
  {
   "cell_type": "code",
   "execution_count": 52,
   "metadata": {
    "scrolled": true
   },
   "outputs": [
    {
     "name": "stdout",
     "output_type": "stream",
     "text": [
      "my_string address just after creation ->  2253609617392\n",
      "HELLO\n",
      "my_string address after modification  ->  2253614219120\n",
      "\n",
      "Here address,  after creation of my_string  and after modication is different , that proves Strings  are immutables\n"
     ]
    }
   ],
   "source": [
    "    my_string = \"hello\"\n",
    "    print(\"my_string address just after creation -> \",id(my_string))\n",
    "    my_string = my_string.upper()  # Creates a new string object\n",
    "    print(new_string)               # Output: \"HELLO\"\n",
    "    print(\"my_string address after modification  -> \",id(my_string))\n",
    "    print(\"\\nHere address,  after creation of my_string  and after modication is different , that proves Strings  are immutables\")"
   ]
  },
  {
   "cell_type": "markdown",
   "metadata": {},
   "source": [
    "3. **Tuples**"
   ]
  },
  {
   "cell_type": "code",
   "execution_count": 61,
   "metadata": {},
   "outputs": [
    {
     "name": "stdout",
     "output_type": "stream",
     "text": [
      "my_tuple address just after creation ->  2253614443392\n",
      "(1, 2, 3, 4)\n",
      "my_tuple address after modification  ->  2253614390368\n",
      "\n",
      "Here address,  after creation of my_tuple  and after modication is different , that proves Tuples  are immutables\n"
     ]
    }
   ],
   "source": [
    "    my_tuple = (1, 2, 3)\n",
    "    print(\"my_tuple address just after creation -> \",id(my_tuple))\n",
    "    my_tuple = my_tuple + (4,)     # Creates a new tuple object\n",
    "    print(my_tuple)                # Output: (1, 2, 3, 4)\n",
    "    print(\"my_tuple address after modification  -> \",id(my_tuple))\n",
    "    print(\"\\nHere address,  after creation of my_tuple  and after modication is different , that proves Tuples  are immutables\")\n",
    "    "
   ]
  },
  {
   "cell_type": "markdown",
   "metadata": {},
   "source": [
    "4. **Frozen Sets**"
   ]
  },
  {
   "cell_type": "code",
   "execution_count": 6,
   "metadata": {},
   "outputs": [
    {
     "name": "stdout",
     "output_type": "stream",
     "text": [
      "my_frozenddress just after creation ->  1878620889024\n",
      "frozenset({1, 2, 3})\n"
     ]
    }
   ],
   "source": [
    "    my_frozenset = frozenset([1, 2, 3])\n",
    "    print(\"my_frozenddress just after creation -> \",id(my_frozenset))\n",
    "#     my_frozenset.add(4)           # This would raise an AttributeError\n",
    "#     my_frozenset+frozenset([8,9,7])\n",
    "    print(my_frozenset)             # Output: frozenset({1, 2, 3})"
   ]
  },
  {
   "cell_type": "markdown",
   "metadata": {},
   "source": [
    "5. **Bytes**"
   ]
  },
  {
   "cell_type": "code",
   "execution_count": 7,
   "metadata": {},
   "outputs": [
    {
     "name": "stdout",
     "output_type": "stream",
     "text": [
      "b'hello'\n"
     ]
    }
   ],
   "source": [
    "   my_bytes = b\"hello\"\n",
    "   # my_bytes[0] = b\"H\"            # This would raise a TypeError\n",
    "   print(my_bytes)                 # Output: b'hello'"
   ]
  },
  {
   "cell_type": "markdown",
   "metadata": {},
   "source": [
    "6. **Booleans**"
   ]
  },
  {
   "cell_type": "markdown",
   "metadata": {},
   "source": [
    "***\n",
    "### Why the Difference Matters\n",
    "\n",
    "- **Efficiency**: Mutable objects can be modified in place without creating a new object, which can save memory and improve performance in some cases.\n",
    "  \n",
    "- **Safety**: Immutable objects are inherently thread-safe and can be used as keys in dictionaries or elements in sets because their hash value does not change over time.\n",
    "\n",
    "- **Usability**: Understanding mutability helps in writing predictable and bug-free code, especially in contexts where objects are passed around and modified within functions and methods.\n",
    "\n",
    "### Practical Implications\n",
    "\n",
    "#### Mutable Example\n",
    "```python\n",
    "def modify_list(lst):\n",
    "    lst.append(4)\n",
    "    print(lst)  # Output: [1, 2, 3, 4]\n",
    "\n",
    "my_list = [1, 2, 3]\n",
    "modify_list(my_list)\n",
    "print(my_list)  # Output: [1, 2, 3, 4]\n",
    "```\n",
    "\n",
    "#### Immutable Example\n",
    "```python\n",
    "def modify_string(s):\n",
    "    s = s + \" world\"\n",
    "    print(s)  # Output: \"hello world\"\n",
    "\n",
    "my_string = \"hello\"\n",
    "modify_string(my_string)\n",
    "print(my_string)  # Output: \"hello\"\n",
    "```\n",
    "\n",
    "Understanding and leveraging the concepts of mutable and immutable types can significantly influence the design and performance of your code."
   ]
  }
 ],
 "metadata": {
  "kernelspec": {
   "display_name": "Python 3 (ipykernel)",
   "language": "python",
   "name": "python3"
  },
  "language_info": {
   "codemirror_mode": {
    "name": "ipython",
    "version": 3
   },
   "file_extension": ".py",
   "mimetype": "text/x-python",
   "name": "python",
   "nbconvert_exporter": "python",
   "pygments_lexer": "ipython3",
   "version": "3.11.5"
  }
 },
 "nbformat": 4,
 "nbformat_minor": 2
}
