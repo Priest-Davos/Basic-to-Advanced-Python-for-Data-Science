{
 "cells": [
  {
   "cell_type": "markdown",
   "metadata": {},
   "source": [
    "Here are some practice questions to help you understand and work with tuples in Python:\n",
    "\n",
    "### Practice Questions\n",
    "\n",
    "1. **Create a Tuple:**\n",
    "   - Create a tuple named `my_tuple` that contains the values `10, 20, 30, 40, 50`.\n",
    "\n",
    "2. **Access Tuple Elements:**\n",
    "   - Retrieve the first and last elements from `my_tuple`.\n",
    "\n",
    "3. **Tuple Slicing:**\n",
    "   - Slice `my_tuple` to get a sub-tuple containing the second, third, and fourth elements.\n",
    "\n",
    "4. **Concatenation:**\n",
    "   - Create another tuple named `another_tuple` containing the values `60, 70, 80`. Concatenate it with `my_tuple` to form a new tuple.\n",
    "\n",
    "5. **Tuple Operations:**\n",
    "   - Check if the value `30` is present in `my_tuple`.\n",
    "   - Find the length of `my_tuple`.\n",
    "   - Calculate the sum of all elements in `my_tuple`.\n",
    "\n",
    "6. **Tuple Methods:**\n",
    "   - Create a tuple named `dup_tuple` that contains the values `10, 20, 20, 30, 30, 30, 40`. Use the `count` method to find out how many times `30` appears in `dup_tuple`.\n",
    "   - Use the `index` method to find the first occurrence of `20` in `dup_tuple`.\n",
    "\n",
    "7. **Tuple Unpacking:**\n",
    "   - Create a tuple named `coordinates` with the values `(4, 5, 6)`. Unpack the values into three variables `x, y, z`.\n",
    "\n",
    "8. **Function Return Values:**\n",
    "   - Write a function named `get_stats` that takes a list of numbers as input and returns the minimum, maximum, and sum of the list as a tuple.\n",
    "\n",
    "   ```python\n",
    "   def get_stats(numbers):\n",
    "       # Your code here\n",
    "       pass\n",
    "\n",
    "   # Test the function\n",
    "   stats = get_stats([1, 2, 3, 4, 5])\n",
    "   print(stats)  # Output should be a tuple (1, 5, 15)\n",
    "   ```\n",
    "\n",
    "9. **Nested Tuples:**\n",
    "   - Create a nested tuple named `nested_tuple` containing `((1, 2), (3, 4), (5, 6))`. Access the value `4` from `nested_tuple`.\n",
    "\n",
    "10. **Immutability:**\n",
    "    - Attempt to change the value `50` in `my_tuple` to `55`. Observe what happens and explain why.\n"
   ]
  },
  {
   "cell_type": "code",
   "execution_count": 36,
   "metadata": {},
   "outputs": [],
   "source": [
    "#Ans 1 / Create a Tuple:\n",
    "my_tuple=(10,20,30,40,50)"
   ]
  },
  {
   "cell_type": "code",
   "execution_count": 37,
   "metadata": {},
   "outputs": [
    {
     "name": "stdout",
     "output_type": "stream",
     "text": [
      "10 50\n"
     ]
    }
   ],
   "source": [
    "#Ans 2 / Retrieve the first and last elements from my_tuple.\n",
    "first_element=my_tuple[0]\n",
    "last_element=my_tuple[-1]\n",
    "print(first_element,last_element)"
   ]
  },
  {
   "cell_type": "code",
   "execution_count": 38,
   "metadata": {},
   "outputs": [
    {
     "name": "stdout",
     "output_type": "stream",
     "text": [
      "(20, 30, 40, 50)\n"
     ]
    }
   ],
   "source": [
    "#Ans 3 / Slice my_tuple to get a sub-tuple containing the second, third, and fourth elements.\n",
    "sub_tuple=my_tuple[1:]\n",
    "print(sub_tuple)"
   ]
  },
  {
   "cell_type": "code",
   "execution_count": 39,
   "metadata": {},
   "outputs": [
    {
     "name": "stdout",
     "output_type": "stream",
     "text": [
      "(10, 20, 30, 40, 50, 60, 70, 80)\n"
     ]
    }
   ],
   "source": [
    "#Ans 4 / Create another tuple named another_tuple containing the values 60, 70, 80. Concatenate it with my_tuple to form a new tuple.\n",
    "another_tuple=(60,70,80)\n",
    "new_tuple=my_tuple+another_tuple\n",
    "print(new_tuple)"
   ]
  },
  {
   "cell_type": "code",
   "execution_count": 40,
   "metadata": {},
   "outputs": [
    {
     "name": "stdout",
     "output_type": "stream",
     "text": [
      "True\n",
      "5\n",
      "150\n"
     ]
    }
   ],
   "source": [
    "#Ans 5  / Tuple Operations : Check if the value 30 is present in my_tuple. Find the length of my_tuple. Calculate the sum of all elements in my_tuple.\n",
    "print(30 in my_tuple)\n",
    "print(len(my_tuple))\n",
    "print(sum(my_tuple))"
   ]
  },
  {
   "cell_type": "code",
   "execution_count": 41,
   "metadata": {},
   "outputs": [
    {
     "name": "stdout",
     "output_type": "stream",
     "text": [
      "3\n",
      "1\n"
     ]
    }
   ],
   "source": [
    "#Ans6 / Tuple Methods: Create a tuple named dup_tuple that contains the values 10, 20, 20, 30, 30, 30, 40. Use the count method to find out how many times 30 appears in dup_tuple. Use the index method to find the first occurrence of 20 in dup_tuple.\n",
    "dup_tuple=(10,20,20,30,30,30,40)\n",
    "print(dup_tuple.count(30))\n",
    "print(dup_tuple.index(20))"
   ]
  },
  {
   "cell_type": "code",
   "execution_count": 42,
   "metadata": {},
   "outputs": [
    {
     "name": "stdout",
     "output_type": "stream",
     "text": [
      "4, 5, 6\n"
     ]
    }
   ],
   "source": [
    "#ans 7  / Tuple Unpacking: Create a tuple named coordinates with the values (4, 5, 6). Unpack the values into three variables x, y, z.\n",
    "cordinates=(4,5,6)\n",
    "x,y,z=cordinates\n",
    "print(x,y,z ,sep=\", \")"
   ]
  },
  {
   "cell_type": "code",
   "execution_count": 43,
   "metadata": {},
   "outputs": [
    {
     "name": "stdout",
     "output_type": "stream",
     "text": [
      "(1, 5, 15)\n"
     ]
    }
   ],
   "source": [
    "#ans8 /  Write a function named get_stats that takes a list of numbers as input and returns the minimum, maximum, and sum of the list as a tuple.\n",
    "def get_stats(numbers):\n",
    "    # Your code here\n",
    "    \n",
    "    return min(numbers),max(numbers), sum(numbers)\n",
    "\n",
    "# Test the function\n",
    "stats = get_stats([1, 2, 3, 4, 5])\n",
    "print(stats)  # Output should be a tuple (1, 5, 15)"
   ]
  },
  {
   "cell_type": "code",
   "execution_count": 44,
   "metadata": {},
   "outputs": [
    {
     "name": "stdout",
     "output_type": "stream",
     "text": [
      "4\n"
     ]
    }
   ],
   "source": [
    "#ans 9 / Create a nested tuple named nested_tuple containing ((1, 2), (3, 4), (5, 6)). Access the value 4 from nested_tuple.\n",
    "nested_tuple=((1, 2), (3, 4), (5, 6))\n",
    "print(nested_tuple[1][1])"
   ]
  },
  {
   "cell_type": "code",
   "execution_count": 45,
   "metadata": {},
   "outputs": [
    {
     "name": "stdout",
     "output_type": "stream",
     "text": [
      "'tuple' object does not support item assignment\n"
     ]
    }
   ],
   "source": [
    "#ans 10 / Attempt to change the value 50 in my_tuple to 55. Observe what happens and explain why.\n",
    "try:\n",
    "  my_tuple[4] = 55\n",
    "except TypeError as e:\n",
    "   print(e) "
   ]
  }
 ],
 "metadata": {
  "kernelspec": {
   "display_name": "Python 3",
   "language": "python",
   "name": "python3"
  },
  "language_info": {
   "codemirror_mode": {
    "name": "ipython",
    "version": 3
   },
   "file_extension": ".py",
   "mimetype": "text/x-python",
   "name": "python",
   "nbconvert_exporter": "python",
   "pygments_lexer": "ipython3",
   "version": "3.12.2"
  }
 },
 "nbformat": 4,
 "nbformat_minor": 2
}
