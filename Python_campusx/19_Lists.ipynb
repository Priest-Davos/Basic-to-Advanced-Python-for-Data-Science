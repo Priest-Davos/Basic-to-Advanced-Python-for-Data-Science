{
 "cells": [
  {
   "cell_type": "markdown",
   "metadata": {},
   "source": [
    "## List in python"
   ]
  },
  {
   "cell_type": "markdown",
   "metadata": {
    "slideshow": {
     "slide_type": "slide"
    }
   },
   "source": [
    "Lists in Python are versatile, ordered, and mutable collections that can store items of different data types. They are defined by enclosing elements in square brackets (`[]`). Here’s a comprehensive overview of lists, their creation, operations, and common use cases.\n",
    "***\n",
    "\n",
    "\n",
    "\n",
    "### Key Differences - List vs Arrays in Python\n",
    "\n",
    "1. **Data Type:**\n",
    "   - Lists: Can contain mixed data types.\n",
    "   - Arrays: Homogeneous data types.\n",
    "\n",
    "2. **Flexibility:**\n",
    "   - Lists: More flexible, can contain different types of elements and be resized dynamically.\n",
    "   - Arrays: More constrained, typically more efficient for numerical operations.\n",
    "\n",
    "3. **Performance:**\n",
    "   - Lists: Generally slower for numerical operations due to type checking and flexibility.\n",
    "   - Arrays: Optimized for numerical operations, especially with libraries like NumPy.\n",
    "\n",
    "4. **Memory Usage:**\n",
    "   - Lists: Less memory efficient for large datasets.\n",
    "   - Arrays: More memory efficient due to homogeneous data and optimization.\n",
    "\n",
    "\n",
    "\n",
    "- **Use Lists:** When you need a versatile, general-purpose container for elements of different types and frequent resizing.\n",
    "- **Use Arrays (NumPy):** When you need efficient storage and fast numerical operations on large datasets, especially for scientific computing and data analysis.\n",
    "***\n",
    "### Creating Lists\n",
    "\n",
    "Lists can be created in several ways:\n",
    "\n",
    "1. **Empty List:**\n",
    "\n",
    "```python\n",
    "empty_list = []\n",
    "```\n",
    "\n",
    "2. **List with Elements:**\n",
    "\n",
    "```python\n",
    "fruits = ['apple', 'banana', 'cherry']\n",
    "numbers = [1, 2, 3, 4, 5]\n",
    "mixed = [1, 'apple', 3.14, True]\n",
    "```\n",
    "\n",
    "\n",
    "3. **Using `list()` Constructor:**\n",
    "\n",
    "```python\n",
    "chars = list('hello')  # ['h', 'e', 'l', 'l', 'o']\n",
    "numbers = list(range(5))  # [0, 1, 2, 3, 4]\n",
    "```\n",
    "***\n",
    "### Accessing Elements\n",
    "\n",
    "Elements in a list are accessed by their index, starting from 0 for the first element and -1 for the last element.\n",
    "\n",
    "```python\n",
    "fruits = ['apple', 'banana', 'cherry']\n",
    "\n",
    "print(fruits[0])   # Output: apple\n",
    "print(fruits[-1])  # Output: cherry\n",
    "```\n",
    "***\n",
    "### Modifying Lists\n",
    "\n",
    "Since lists are mutable, you can modify their elements, add new elements, or remove existing ones.\n",
    "\n",
    "1. **Changing Elements:**\n",
    "\n",
    "```python\n",
    "fruits = ['apple', 'banana', 'cherry']\n",
    "fruits[1] = 'blueberry'\n",
    "print(fruits)  # Output: ['apple', 'blueberry', 'cherry']\n",
    "```\n",
    "\n",
    "2. **Adding Elements:**\n",
    "\n",
    "- **Using `append()`:** Adds `an element` to the end of the list.\n",
    "\n",
    "```python\n",
    "fruits.append('date')\n",
    "print(fruits)  # Output: ['apple', 'blueberry', 'cherry', 'date']\n",
    "```\n",
    "\n",
    "- **Using `insert()`:** Adds an element at a specified position.\n",
    "\n",
    "```python\n",
    "fruits.insert(1, 'banana')\n",
    "print(fruits)  # Output: ['apple', 'banana', 'blueberry', 'cherry', 'date']\n",
    "```\n",
    "\n",
    "- **Using `extend()`:** Adds `elements` from another list.\n",
    "\n",
    "```python\n",
    "fruits.extend(['elderberry', 'fig'])\n",
    "print(fruits)  # Output: ['apple', 'banana', 'blueberry', 'cherry', 'date', 'elderberry', 'fig']\n",
    "```\n",
    "\n",
    "3. **Removing Elements:**\n",
    "\n",
    "- **Using `remove()`:** Removes the first occurrence of a value.\n",
    "\n",
    "```python\n",
    "fruits.remove('banana')\n",
    "print(fruits)  # Output: ['apple', 'blueberry', 'cherry', 'date', 'elderberry', 'fig']\n",
    "```\n",
    "\n",
    "- **Using `pop()`:** Removes and returns an element at a specified position.\n",
    "- by default remove last element\n",
    "```python\n",
    "fruits.pop(1)\n",
    "print(fruits)  # Output: ['apple', 'cherry', 'date', 'elderberry', 'fig']\n",
    "```\n",
    "\n",
    "- **Using `del` Keyword:** Deletes an element at a specified position.\n",
    "\n",
    "```python\n",
    "del fruits[2]\n",
    "print(fruits)  # Output: ['apple', 'cherry', 'elderberry', 'fig']\n",
    "```\n",
    "- **`clear`** :  remove all elements from a  list\n",
    "***\n",
    "### Slicing Lists\n",
    "\n",
    "You can extract sublists using slicing. The syntax is `list[start:stop:step]`.\n",
    "\n",
    "```python\n",
    "numbers = [0, 1, 2, 3, 4, 5, 6, 7, 8, 9]\n",
    "\n",
    "print(numbers[2:5])   # Output: [2, 3, 4]\n",
    "print(numbers[:3])    # Output: [0, 1, 2]\n",
    "print(numbers[7:])    # Output: [7, 8, 9]\n",
    "print(numbers[::2])   # Output: [0, 2, 4, 6, 8]\n",
    "print(numbers[::-1])  # Output: [9, 8, 7, 6, 5, 4, 3, 2, 1, 0]\n",
    "```\n",
    "***\n",
    "### List Comprehensions\n",
    "\n",
    "List comprehensions provide a concise way to create lists.\n",
    "\n",
    "```python\n",
    "squares = [x**2 for x in range(10)]\n",
    "print(squares)  # Output: [0, 1, 4, 9, 16, 25, 36, 49, 64, 81]\n",
    "```\n",
    "***\n",
    "### Common List Methods\n",
    "\n",
    "Here are some commonly used list methods:\n",
    "\n",
    "- **`append(x)`:** Adds an element `x` to the end of the list.\n",
    "- **`insert(i, x)`:** Inserts an element `x` at position `i`.\n",
    "- **`extend(iterable)`:** Extends the list by appending elements from the iterable.\n",
    "- **`remove(x)`:** Removes the first occurrence of element `x`.\n",
    "- **`pop([i])`:** Removes and returns the element at position `i` (or the last element if `i` is not provided).\n",
    "- **`clear()`:** Removes all elements from the list.\n",
    "- **`index(x[, start[, end]])`:** Returns the index of the first occurrence of element `x`.\n",
    "- **`count(x)`:** Returns the number of occurrences of element `x`.\n",
    "- **`sort(key=None, reverse=False)`:** Sorts the list in place. make changes in `og` list.\n",
    "- **`reverse()`:** Reverses the elements of the list in place.\n",
    "- **`copy()`:** Returns a shallow copy of the list.\n",
    "***"
   ]
  },
  {
   "cell_type": "markdown",
   "metadata": {},
   "source": [
    "**TASK** :-  create a function that should work similar to `title` function available in python that will take a string and will capitalize first letter of each word present in that string.\n",
    "- Note :- writing the logic inside a function is optional . You can just write the logic in normal workflow "
   ]
  },
  {
   "cell_type": "code",
   "execution_count": 1,
   "metadata": {},
   "outputs": [
    {
     "name": "stdout",
     "output_type": "stream",
     "text": [
      "Creating A System Is Important In Life\n"
     ]
    }
   ],
   "source": [
    "\n",
    "text=\"crEAting a system is important in life\"\n",
    "\n",
    "def titleFunc(text):\n",
    "# Split the string into words\n",
    "  words=list(text.split(\" \"))\n",
    "  capitalize_words_list=list()\n",
    "  \n",
    "# Capitalize the first letter of each word\n",
    "  for word in words:\n",
    "    word=word.capitalize()\n",
    "    capitalize_words_list.append(word)\n",
    "\n",
    "# Join the capitalized words back into a single string\n",
    "  # for element in capitalize_words_list:  \n",
    "  #   text=text+element+\" \"  \n",
    "  text=\" \".join(capitalize_words_list)  #or use join function\n",
    "\n",
    "  return text \n",
    "  \n",
    "# Testing\n",
    "print(titleFunc(text))  \n",
    "\n"
   ]
  },
  {
   "cell_type": "markdown",
   "metadata": {},
   "source": [
    " **Task** :- create a func to remove duplicate items from a list"
   ]
  },
  {
   "cell_type": "code",
   "execution_count": 2,
   "metadata": {},
   "outputs": [
    {
     "name": "stdout",
     "output_type": "stream",
     "text": [
      "[1, 3, 4, 5]\n"
     ]
    }
   ],
   "source": [
    "# create a func to remove duplicate items from a list\n",
    "def remove_duplicates(input_list):\n",
    "  temp=[]\n",
    "  for i in input_list:\n",
    "    if i not in temp:\n",
    "      temp.append(i)\n",
    "  return temp\n",
    "print(remove_duplicates([1,1,3,4,3,5]))"
   ]
  },
  {
   "cell_type": "markdown",
   "metadata": {},
   "source": [
    " **Task** :- extract the text  before \"@gmail.com\" from a given email id"
   ]
  },
  {
   "cell_type": "code",
   "execution_count": 10,
   "metadata": {},
   "outputs": [
    {
     "name": "stdout",
     "output_type": "stream",
     "text": [
      "codered56ok\n"
     ]
    }
   ],
   "source": [
    "email= \"codered56ok@gmail.com\"\n",
    "\n",
    "temp=email.find(\"@\")\n",
    "username=email[:temp]\n",
    "print(username)\n"
   ]
  }
 ],
 "metadata": {
  "kernelspec": {
   "display_name": "Python 3",
   "language": "python",
   "name": "python3"
  },
  "language_info": {
   "codemirror_mode": {
    "name": "ipython",
    "version": 3
   },
   "file_extension": ".py",
   "mimetype": "text/x-python",
   "name": "python",
   "nbconvert_exporter": "python",
   "pygments_lexer": "ipython3",
   "version": "3.12.2"
  }
 },
 "nbformat": 4,
 "nbformat_minor": 2
}
