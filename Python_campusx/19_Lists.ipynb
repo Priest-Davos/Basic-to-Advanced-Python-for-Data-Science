{
 "cells": [
  {
   "cell_type": "code",
   "execution_count": null,
   "metadata": {},
   "outputs": [],
   "source": [
    "#List \n",
    "# what is list\n",
    "# list vs arrays\n",
    "# create\n",
    "# access\n",
    "# edit\n",
    "# add\n",
    "# delete \n",
    "# operations\n",
    "# functions\n"
   ]
  },
  {
   "cell_type": "markdown",
   "metadata": {},
   "source": []
  },
  {
   "cell_type": "markdown",
   "metadata": {},
   "source": []
  },
  {
   "cell_type": "code",
   "execution_count": null,
   "metadata": {},
   "outputs": [],
   "source": []
  },
  {
   "cell_type": "code",
   "execution_count": null,
   "metadata": {},
   "outputs": [],
   "source": []
  },
  {
   "cell_type": "code",
   "execution_count": 62,
   "metadata": {},
   "outputs": [
    {
     "name": "stdout",
     "output_type": "stream",
     "text": [
      "Old Generation Was Good. Yaaaa You Are 3right\n"
     ]
    }
   ],
   "source": [
    "\n",
    "text=\"old generation was good. yaaaa you are 3right\"\n",
    "def titleFunc(text):\n",
    "  text=list(text.split(\" \"))\n",
    "  text2=list()\n",
    "  for elements in text:\n",
    "    elements=elements.capitalize()\n",
    "    # print(type(elements))\n",
    "    text2.append(elements)\n",
    "    # print(text2)\n",
    "  # print(text)\n",
    "  # print(text2)\n",
    "  text=\"\"\n",
    "  \n",
    "  # for element in text2:  #or use join function\n",
    "  #   text=text+element+\" \"  \n",
    "  text=\" \".join(text2)\n",
    "  # print(text)\n",
    "  return text \n",
    "  \n",
    "print(titleFunc(text))\n"
   ]
  },
  {
   "cell_type": "code",
   "execution_count": 67,
   "metadata": {},
   "outputs": [
    {
     "name": "stdout",
     "output_type": "stream",
     "text": [
      "[1, 3, 4, 5]\n"
     ]
    }
   ],
   "source": [
    "# create a func to remove duplicate items from a list\n",
    "def remove_duplicates(input_list):\n",
    "  l=[]\n",
    "  for i in input_list:\n",
    "    if i not in l:\n",
    "      l.append(i)\n",
    "  return l\n",
    "print(remove_duplicates([1,1,3,4,3,5]))"
   ]
  },
  {
   "cell_type": "code",
   "execution_count": null,
   "metadata": {},
   "outputs": [],
   "source": []
  },
  {
   "cell_type": "code",
   "execution_count": null,
   "metadata": {},
   "outputs": [],
   "source": []
  }
 ],
 "metadata": {
  "kernelspec": {
   "display_name": "Python 3",
   "language": "python",
   "name": "python3"
  },
  "language_info": {
   "codemirror_mode": {
    "name": "ipython",
    "version": 3
   },
   "file_extension": ".py",
   "mimetype": "text/x-python",
   "name": "python",
   "nbconvert_exporter": "python",
   "pygments_lexer": "ipython3",
   "version": "3.12.2"
  }
 },
 "nbformat": 4,
 "nbformat_minor": 2
}
