{
 "cells": [
  {
   "cell_type": "markdown",
   "metadata": {},
   "source": [
    "# While Loop in Python\n",
    "A `while` loop in Python repeatedly executes a block of code as long as a given condition is true. The condition is evaluated before the execution of each iteration, and if the condition evaluates to `False`, the loop stops.\n",
    "\n",
    "### Syntax\n",
    "\n",
    "```python\n",
    "while condition:\n",
    "    # Block of code to execute\n",
    "    # This code will run as long as the condition is True\n",
    "```\n",
    "\n",
    "\n",
    "### Infinite Loop\n",
    "\n",
    "A `while` loop can run indefinitely if the condition never evaluates to `False`. This is known as an infinite loop. You can stop an infinite loop using `break`.\n",
    "\n",
    "```python\n",
    "while True:\n",
    "    print(\"This will print indefinitely unless stopped.\")\n",
    "    break  # This will stop the loop\n",
    "```\n"
   ]
  },
  {
   "cell_type": "markdown",
   "metadata": {},
   "source": [
    "### Example: Basic `while` Loop"
   ]
  },
  {
   "cell_type": "code",
   "execution_count": 7,
   "metadata": {},
   "outputs": [
    {
     "name": "stdout",
     "output_type": "stream",
     "text": [
      "2  *  1  =  2\n",
      "2  *  2  =  4\n",
      "2  *  3  =  6\n",
      "2  *  4  =  8\n",
      "2  *  5  =  10\n",
      "2  *  6  =  12\n",
      "2  *  7  =  14\n",
      "2  *  8  =  16\n",
      "2  *  9  =  18\n",
      "2  *  10  =  20\n"
     ]
    }
   ],
   "source": [
    "num=int(input(\"Enter the number\"))\n",
    "i=1\n",
    "while i<11:\n",
    "  print(num,\" * \",i,\" = \",num*i)\n",
    "  i+=1"
   ]
  }
 ],
 "metadata": {
  "kernelspec": {
   "display_name": "Python 3",
   "language": "python",
   "name": "python3"
  },
  "language_info": {
   "codemirror_mode": {
    "name": "ipython",
    "version": 3
   },
   "file_extension": ".py",
   "mimetype": "text/x-python",
   "name": "python",
   "nbconvert_exporter": "python",
   "pygments_lexer": "ipython3",
   "version": "3.12.2"
  }
 },
 "nbformat": 4,
 "nbformat_minor": 2
}
