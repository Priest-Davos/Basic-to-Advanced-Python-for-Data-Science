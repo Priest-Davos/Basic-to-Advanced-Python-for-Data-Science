{
 "cells": [
  {
   "cell_type": "markdown",
   "metadata": {
    "notebookRunGroups": {
     "groupValue": "2"
    }
   },
   "source": [
    "# Nested  Loops"
   ]
  },
  {
   "cell_type": "markdown",
   "metadata": {},
   "source": [
    "Nested loops in Python are loops within loops. You can use nested loops to handle more complex data structures and perform repeated actions within repeated actions.\n",
    "\n",
    "### Syntax\n",
    "\n",
    "```python\n",
    "for outer_variable in outer_sequence:\n",
    "    for inner_variable in inner_sequence:\n",
    "        # Block of code to execute for each pair of outer and inner variables\n",
    "```\n",
    "\n",
    "### Example: Nested `for` Loop\n",
    "\n",
    "Here's an example of a nested `for` loop to print the elements of a 2D list (matrix):\n",
    "\n",
    "```python\n",
    "matrix = [\n",
    "    [1, 2, 3],\n",
    "    [4, 5, 6],\n",
    "    [7, 8, 9]\n",
    "]\n",
    "\n",
    "for row in matrix:\n",
    "    for value in row:\n",
    "        print(value, end=\" \")\n",
    "    print()\n",
    "```\n",
    "\n",
    "Output:\n",
    "```\n",
    "1 2 3 \n",
    "4 5 6 \n",
    "7 8 9 \n",
    "```\n",
    "\n",
    "In this example, the outer loop iterates over each row of the matrix, and the inner loop iterates over each value in the current row.\n",
    "\n",
    "### Example: Multiplication Table\n",
    "\n",
    "Here's an example to generate a multiplication table using nested `for` loops:\n",
    "\n",
    "```python\n",
    "for i in range(1, 11):\n",
    "    for j in range(1, 11):\n",
    "        print(f\"{i * j:3}\", end=\" \")\n",
    "    print()\n",
    "```\n",
    "\n",
    "Output:\n",
    "```\n",
    "  1   2   3   4   5   6   7   8   9  10 \n",
    "  2   4   6   8  10  12  14  16  18  20 \n",
    "  3   6   9  12  15  18  21  24  27  30 \n",
    "  4   8  12  16  20  24  28  32  36  40 \n",
    "  5  10  15  20  25  30  35  40  45  50 \n",
    "  6  12  18  24  30  36  42  48  54  60 \n",
    "  7  14  21  28  35  42  49  56  63  70 \n",
    "  8  16  24  32  40  48  56  64  72  80 \n",
    "  9  18  27  36  45  54  63  72  81  90 \n",
    " 10  20  30  40  50  60  70  80  90 100 \n",
    "```\n",
    "\n",
    "In this example, the outer loop iterates over the numbers from 1 to 10, and the inner loop iterates over the numbers from 1 to 10 for each iteration of the outer loop, creating a multiplication table.\n",
    "\n",
    "\n"
   ]
  },
  {
   "cell_type": "code",
   "execution_count": 27,
   "metadata": {},
   "outputs": [
    {
     "name": "stdout",
     "output_type": "stream",
     "text": [
      "* \n",
      "\n",
      "* * \n",
      "\n",
      "* * * \n",
      "\n",
      "* * * * \n",
      "\n",
      "* * * * * \n",
      "\n"
     ]
    }
   ],
   "source": [
    "# example:- star pattern\n",
    "rows=int(input(\"enter the number of rows\"))#5\n",
    "for i in range(rows):\n",
    "  for j in range (i+1):\n",
    "    print(\"*\",end=\" \") \n",
    "  print(\"\\n\")"
   ]
  },
  {
   "cell_type": "code",
   "execution_count": 25,
   "metadata": {},
   "outputs": [
    {
     "name": "stdout",
     "output_type": "stream",
     "text": [
      "* \n",
      "\n",
      "* * \n",
      "\n",
      "* * * \n",
      "\n",
      "* * * * \n",
      "\n",
      "* * * * * \n",
      "\n"
     ]
    }
   ],
   "source": [
    "for i in range(5):\n",
    "  for j in range (5):\n",
    "    if i>=j:\n",
    "      print(\"*\",end=\" \")\n",
    "    \n",
    "  print(\"\\n\")"
   ]
  },
  {
   "cell_type": "code",
   "execution_count": 26,
   "metadata": {},
   "outputs": [
    {
     "name": "stdout",
     "output_type": "stream",
     "text": [
      "* * * * * \n",
      "\n",
      "* * * * \n",
      "\n",
      "* * * \n",
      "\n",
      "* * \n",
      "\n",
      "* \n",
      "\n"
     ]
    }
   ],
   "source": [
    "for i in range(5):\n",
    "  for j in range (5):\n",
    "    if i<=j:\n",
    "      print(\"*\",end=\" \")\n",
    "  print(\"\\n\")"
   ]
  }
 ],
 "metadata": {
  "kernelspec": {
   "display_name": "Python 3",
   "language": "python",
   "name": "python3"
  },
  "language_info": {
   "codemirror_mode": {
    "name": "ipython",
    "version": 3
   },
   "file_extension": ".py",
   "mimetype": "text/x-python",
   "name": "python",
   "nbconvert_exporter": "python",
   "pygments_lexer": "ipython3",
   "version": "3.12.2"
  }
 },
 "nbformat": 4,
 "nbformat_minor": 2
}
