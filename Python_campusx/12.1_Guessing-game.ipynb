{
 "cells": [
  {
   "cell_type": "markdown",
   "metadata": {},
   "source": [
    "#### Guessing game"
   ]
  },
  {
   "cell_type": "code",
   "execution_count": 4,
   "metadata": {},
   "outputs": [
    {
     "name": "stdout",
     "output_type": "stream",
     "text": [
      "too low\n",
      "too low\n",
      "too high\n",
      "you guessed it correct in  4 attempt\n"
     ]
    }
   ],
   "source": [
    "import random\n",
    "# correct_num=3\n",
    "correct_num = random.randint(1, 100) \n",
    "guess=None\n",
    "attempt=0\n",
    "\n",
    "while guess!=correct_num:\n",
    "  attempt+=1\n",
    "  guess=int(input(\"Guess a number: \"))\n",
    "  if guess==correct_num:\n",
    "    print(\"you guessed it correct in \", attempt, \"attempt\")\n",
    "    break\n",
    "  elif guess<correct_num:\n",
    "    print(\"too low\")\n",
    "  elif guess>correct_num:\n",
    "    print(\"too high\")\n",
    "  "
   ]
  },
  {
   "cell_type": "markdown",
   "metadata": {},
   "source": [
    "\n",
    "\n",
    "### Explanation\n",
    "\n",
    "1. **Variable Initialization**:\n",
    "    - `correct_num` is the correct number to guess.\n",
    "    - `guess` is initialized to `None` to start the loop.\n",
    "    - `attempt` is initialized to `0` to count the number of attempts.\n",
    "\n",
    "2. **While Loop**:\n",
    "    - The loop continues until `guess` equals `correct_num`.\n",
    "\n",
    "3. **Attempt Increment**:\n",
    "    - `attempt` is incremented by `1` at the start of each iteration to count the number of attempts.\n",
    "\n",
    "4. **Input and Comparison**:\n",
    "    - The user is prompted to enter a guess.\n",
    "    - If the guess is correct, the loop breaks and the program prints the number of attempts.\n",
    "    - If the guess is too low or too high, the program provides feedback and the loop continues.\n"
   ]
  },
  {
   "cell_type": "markdown",
   "metadata": {},
   "source": []
  }
 ],
 "metadata": {
  "kernelspec": {
   "display_name": "Python 3",
   "language": "python",
   "name": "python3"
  },
  "language_info": {
   "codemirror_mode": {
    "name": "ipython",
    "version": 3
   },
   "file_extension": ".py",
   "mimetype": "text/x-python",
   "name": "python",
   "nbconvert_exporter": "python",
   "pygments_lexer": "ipython3",
   "version": "3.12.2"
  }
 },
 "nbformat": 4,
 "nbformat_minor": 2
}
