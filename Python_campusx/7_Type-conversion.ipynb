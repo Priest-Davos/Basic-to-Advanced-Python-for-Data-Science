{
 "cells": [
  {
   "cell_type": "markdown",
   "metadata": {},
   "source": [
    "##### Type conversion, also known as type casting, is the process of converting a value from one data type to another. In Python, you can perform type conversion using built-in functions. There are two types of type conversions: implicit and explicit.\n",
    "\n"
   ]
  },
  {
   "cell_type": "markdown",
   "metadata": {},
   "source": [
    "1) Implicit Type Conversion\n",
    "* Implicit type conversion is automatically performed by the Python interpreter without any user intervention. This happens when the interpreter converts a smaller data type to a larger data type to prevent data loss.*"
   ]
  },
  {
   "cell_type": "code",
   "execution_count": 5,
   "metadata": {},
   "outputs": [
    {
     "name": "stdout",
     "output_type": "stream",
     "text": [
      "Data type of num_int: <class 'int'>\n",
      "Data type of num_float: <class 'float'>\n",
      "Data type of result: <class 'float'>\n",
      "Result: 124.23\n"
     ]
    }
   ],
   "source": [
    "# Implicit type conversion\n",
    "num_int = 123    # int\n",
    "num_float = 1.23 # float\n",
    "\n",
    "# Adding an integer and a float results in a float\n",
    "result = num_int + num_float\n",
    "\n",
    "print(\"Data type of num_int:\", type(num_int))\n",
    "print(\"Data type of num_float:\", type(num_float))\n",
    "print(\"Data type of result:\", type(result))\n",
    "print(\"Result:\", result)\n"
   ]
  },
  {
   "cell_type": "markdown",
   "metadata": {},
   "source": [
    "2) Explicit Type Conversion\n",
    "* Explicit type conversion, also known as type casting, is when the user explicitly converts one data type to another using built-in functions. The most common type conversion functions are int(), float(), str(), bool(), list(), tuple(), set(), and dict()."
   ]
  },
  {
   "cell_type": "code",
   "execution_count": 6,
   "metadata": {},
   "outputs": [
    {
     "name": "stdout",
     "output_type": "stream",
     "text": [
      "Data type of num_str: <class 'str'>\n",
      "Value of num_str: 10\n"
     ]
    }
   ],
   "source": [
    "# Examples of Explicit Type Conversion\n",
    "# integer to string\n",
    "num_int = 10\n",
    "num_str = str(num_int)\n",
    "print(\"Data type of num_str:\", type(num_str))\n",
    "print(\"Value of num_str:\", num_str)\n",
    "\n"
   ]
  }
 ],
 "metadata": {
  "kernelspec": {
   "display_name": "Python 3",
   "language": "python",
   "name": "python3"
  },
  "language_info": {
   "codemirror_mode": {
    "name": "ipython",
    "version": 3
   },
   "file_extension": ".py",
   "mimetype": "text/x-python",
   "name": "python",
   "nbconvert_exporter": "python",
   "pygments_lexer": "ipython3",
   "version": "3.12.2"
  }
 },
 "nbformat": 4,
 "nbformat_minor": 2
}
