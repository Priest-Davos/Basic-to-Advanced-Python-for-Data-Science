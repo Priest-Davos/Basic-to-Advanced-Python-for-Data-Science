{
 "cells": [
  {
   "cell_type": "markdown",
   "metadata": {},
   "source": [
    "\n",
    "### Basic Recursion Practice:  (Level 1)\n",
    "\n",
    "1. **Factorial Calculation:**\n",
    "   - Write a recursive function to calculate the factorial of a number `n`.\n",
    "\n",
    "2. **Fibonacci Sequence:**\n",
    "   - Write a recursive function to generate the `n`th Fibonacci number.\n",
    "\n",
    "3. **Sum of Digits:**\n",
    "   - Write a recursive function to find the sum of the digits of a positive integer.\n",
    "\n",
    "4. **Reverse a String:**\n",
    "   - Write a recursive function to reverse a given string.\n",
    "\n",
    "5. **Count Occurrences:**\n",
    "   - Write a recursive function to count the number of times a specific value appears in a list.\n",
    "\n",
    "### Intermediate Recursion Practice  (Level 2):\n",
    "\n",
    "6. **Power Calculation:**\n",
    "   - Write a recursive function to calculate `a^b` (a raised to the power b) without using the `**` operator.\n",
    "\n",
    "7. **Palindrome Check:**\n",
    "   - Write a recursive function to check if a given string is a palindrome.\n",
    "\n",
    "8. **GCD Calculation:**\n",
    "   - Write a recursive function to calculate the greatest common divisor (GCD) of two numbers using the Euclidean algorithm.\n",
    "\n",
    "9. **Binary Search:**\n",
    "   - Implement a recursive binary search function that returns the index of a target element in a sorted list.\n",
    "\n",
    "10. **Tower of Hanoi:**\n",
    "    - Write a recursive function to solve the Tower of Hanoi problem for `n` disks.\n",
    "\n",
    "### Advanced Recursion Practice    (Level 3):\n",
    "\n",
    "11. **Permutations:**\n",
    "    - Write a recursive function to generate all possible permutations of a list of numbers.\n",
    "\n",
    "12. **All Subsequences:**\n",
    "    - Write a recursive function to generate all possible subsequences of a given string.\n",
    "\n",
    "13. **Combination Sum:**\n",
    "    - Write a recursive function that, given a list of numbers and a target sum, finds all unique combinations where the numbers sum up to the target.\n",
    "\n",
    "14. **Generate Parentheses:**\n",
    "    - Write a recursive function that generates all combinations of well-formed parentheses for `n` pairs of parentheses.\n",
    "\n",
    "15. **Word Break Problem:**\n",
    "    - Write a recursive function to determine if a string can be segmented into a sequence of dictionary words.\n",
    "\n",
    "### Real-World Recursion Practice:\n",
    "\n",
    "16. **Path Finding in a Maze:**\n",
    "    - Write a recursive function to find a path through a maze represented by a 2D grid, where `0` is an open path and `1` is an obstacle.\n",
    "\n",
    "17. **N-Queens Problem:**\n",
    "    - Write a recursive function to place `n` queens on an `n x n` chessboard such that no two queens attack each other.\n",
    "\n",
    "18. **Sudoku Solver:**\n",
    "    - Write a recursive function to solve a Sudoku puzzle.\n",
    "\n",
    "19. **Subset Sum Problem:**\n",
    "    - Write a recursive function to determine if there is a subset of a given set with a sum equal to a given number.\n",
    "\n",
    "20. **Recursive Directory Traversal:**\n",
    "    - Write a recursive function that takes a directory path as input and prints all files and subdirectories within that directory.\n",
    "\n",
    "### Challenge Problems:\n",
    "\n",
    "21. **K-th Symbol in Grammar:**\n",
    "    - Given a grammar sequence, find the k-th symbol in the n-th row recursively.\n",
    "\n",
    "22. **Word Search:**\n",
    "    - Given a 2D board and a word, write a recursive function to find if the word exists in the grid. The word can be constructed from letters of sequentially adjacent cells, where \"adjacent\" cells are those horizontally or vertically neighboring.\n",
    "\n",
    "23. **Expression Evaluation:**\n",
    "    - Write a recursive function to evaluate an arithmetic expression represented as a string (e.g., `\"3 + (2 * (4 - 1))\"`).\n",
    "\n",
    "24. **Generate All Possible BSTs:**\n",
    "    - Write a recursive function to generate all possible Binary Search Trees (BSTs) with `n` nodes.\n",
    "\n",
    "25. **Solve Knight's Tour Problem:**\n",
    "    - Write a recursive function to find a sequence of moves for a knight on a chessboard that visits every square exactly once."
   ]
  },
  {
   "cell_type": "markdown",
   "metadata": {},
   "source": [
    "# Solutions"
   ]
  },
  {
   "cell_type": "code",
   "execution_count": 1,
   "metadata": {},
   "outputs": [
    {
     "name": "stdout",
     "output_type": "stream",
     "text": [
      "factorial of  5  = 120\n"
     ]
    }
   ],
   "source": [
    "#1.  Write a recursive function to calculate the factorial of a number `n`\n",
    "def fact(n):\n",
    "  if (n == 0):\n",
    "    return 1\n",
    "  else:\n",
    "    return n * fact(n-1)\n",
    "n=5\n",
    "print(\"factorial of \", n, \" =\",fact(n))\n",
    "      "
   ]
  },
  {
   "cell_type": "code",
   "execution_count": 55,
   "metadata": {},
   "outputs": [
    {
     "name": "stdout",
     "output_type": "stream",
     "text": [
      "13\n"
     ]
    }
   ],
   "source": [
    "# write a recursive func=tion to generate the nth fibonacci sequence\n",
    "# a series of numbers in which each number ( Fibonacci number ) is the sum of the two preceding numbers. The simplest is the series 1, 1, 2, 3, 5, 8, etc.\n",
    "\n",
    "def fibonacci(n):\n",
    "  \n",
    "  if n==0:\n",
    "    return 0\n",
    "  elif n==1:\n",
    "    return 1\n",
    "\n",
    "  else:\n",
    "    # print(n)\n",
    "    return fibonacci(n-1)+fibonacci(n-2)\n",
    "\n",
    "print(fibonacci(7))\n",
    "  \n",
    "    \n",
    "  \n",
    "  "
   ]
  },
  {
   "cell_type": "code",
   "execution_count": 43,
   "metadata": {},
   "outputs": [
    {
     "name": "stdout",
     "output_type": "stream",
     "text": [
      "[0, 1, 1]\n"
     ]
    }
   ],
   "source": [
    "\n",
    "def fib(n):\n",
    "  \n",
    "  if n <= 0:\n",
    "      return []\n",
    "  elif n == 1:\n",
    "      return [0]\n",
    "  elif n == 2:\n",
    "      return [0, 1]\n",
    "  \n",
    "\n",
    "  li=[0,1]\n",
    "  i=2\n",
    "  # print(li)\n",
    "  while(n>2): #or i<n\n",
    "    num=li[i-1]+li[i-2]\n",
    "    li.append(num)\n",
    "    n=n-1\n",
    "    i+=1\n",
    "    # print(li)\n",
    " \n",
    "  return li\n",
    "\n",
    "print(fib(3))"
   ]
  },
  {
   "cell_type": "code",
   "execution_count": null,
   "metadata": {},
   "outputs": [],
   "source": []
  }
 ],
 "metadata": {
  "kernelspec": {
   "display_name": "Python 3",
   "language": "python",
   "name": "python3"
  },
  "language_info": {
   "codemirror_mode": {
    "name": "ipython",
    "version": 3
   },
   "file_extension": ".py",
   "mimetype": "text/x-python",
   "name": "python",
   "nbconvert_exporter": "python",
   "pygments_lexer": "ipython3",
   "version": "3.12.2"
  }
 },
 "nbformat": 4,
 "nbformat_minor": 2
}
