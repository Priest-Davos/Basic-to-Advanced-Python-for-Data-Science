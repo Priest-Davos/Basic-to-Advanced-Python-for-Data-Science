{
 "cells": [
  {
   "cell_type": "markdown",
   "metadata": {},
   "source": [
    "In Python, literals are fixed values that represent themselves and are used to assign values to variables. They are the most basic building blocks of a program and can be classified into several types based on the kind of value they hold. Here's a detailed overview of different types of literals in Python:\n",
    "\n",
    "### 1. Numeric Literals\n",
    "\n",
    "Numeric literals are used to represent numbers and can be divided into three types: integers, floating-point numbers, and complex numbers.\n",
    "\n",
    "#### Integer Literals\n",
    "\n",
    "These represent whole numbers and can be written in different bases:\n",
    "\n",
    "- **Decimal (base 10):** The default number system, e.g., `10`, `100`.\n",
    "- **Binary (base 2):** Prefix with `0b` or `0B`, e.g., `0b1010`, `0B1010`.\n",
    "- **Octal (base 8):** Prefix with `0o` or `0O`, e.g., `0o12`, `0O12`.\n",
    "- **Hexadecimal (base 16):** Prefix with `0x` or `0X`, e.g., `0xA`, `0X1F`.\n",
    "\n",
    "\n",
    "#### Floating-Point Literals\n",
    "\n",
    "These represent real numbers and include a decimal point or an exponent part.\n",
    "\n",
    "```python\n",
    "float_num = 10.5\n",
    "float_num_with_exponent = 1.5e2  # equivalent to 1.5 * 10^2\n",
    "\n",
    "#### Complex Literals\n",
    "\n",
    "These represent complex numbers and have a real part and an imaginary part, represented by `j` or `J`.\n",
    "\n",
    "\n",
    "### 2. String Literals\n",
    "\n",
    "String literals are sequences of characters enclosed in single quotes (`'...'`), double quotes (`\"...\"`), triple single quotes (`'''...'''`), or triple double quotes (`\"\"\"...\"\"\"`).\n",
    "\n",
    "\n",
    "### 3. Boolean Literals\n",
    "\n",
    "Boolean literals represent one of two values: `True` or `False`.\n",
    "\n",
    "```python\n",
    "is_python_fun = True\n",
    "is_sky_green = False\n",
    "\n",
    "```\n",
    "\n",
    "### 4. Special Literals\n",
    "\n",
    "Python has a special literal `None` which is used to signify the absence of a value or a null value.\n",
    "when want to declare a variable\n",
    "\n",
    "```python\n",
    "nothing = None\n",
    "\n",
    "print(nothing)\n",
    "```\n",
    "\n",
    "### 5. Collection Literals\n",
    "\n",
    "Python provides several collection types to hold multiple items.\n",
    "\n",
    "#### List Literals\n",
    "\n",
    "Lists are ordered collections of items enclosed in square brackets (`[ ... ]`).\n",
    "\n",
    "```python\n",
    "my_list = [1, 2, 3, \"apple\", 3.14]\n",
    "\n",
    "print(my_list)\n",
    "```\n",
    "\n",
    "#### Tuple Literals\n",
    "\n",
    "Tuples are ordered collections of items enclosed in parentheses (`( ... )`).\n",
    "\n",
    "```python\n",
    "my_tuple = (1, 2, 3, \"banana\", 2.71)\n",
    "\n",
    "print(my_tuple)\n",
    "```\n",
    "\n",
    "#### Dictionary Literals\n",
    "\n",
    "Dictionaries are collections of key-value pairs enclosed in curly braces (`{ ... }`).\n",
    "\n",
    "```python\n",
    "my_dict = {\"name\": \"Alice\", \"age\": 25}\n",
    "\n",
    "print(my_dict)\n",
    "```\n",
    "\n",
    "#### Set Literals\n",
    "\n",
    "Sets are unordered collections of unique items enclosed in curly braces (`{ ... }`).\n",
    "\n",
    "```python\n",
    "my_set = {1, 2, 3, 2, 1}\n",
    "\n",
    "print(my_set)\n",
    "```\n"
   ]
  },
  {
   "cell_type": "markdown",
   "metadata": {},
   "source": [
    "\n",
    "### Example Code Demonstrating Literals\n"
   ]
  },
  {
   "cell_type": "code",
   "execution_count": 9,
   "metadata": {},
   "outputs": [
    {
     "name": "stdout",
     "output_type": "stream",
     "text": [
      "10 10 10 10\n",
      "Integer literal: 42\n",
      "Float literal: 3.14\n",
      "(2+3j) 2.0 3.0\n"
     ]
    }
   ],
   "source": [
    "# Numeric Literals\n",
    "\n",
    "decimal = 10\n",
    "binary = 0b1010\n",
    "octal = 0o12\n",
    "hexadecimal = 0xA\n",
    "\n",
    "print(decimal, binary, octal, hexadecimal)\n",
    "\n",
    "int_literal = 42 #decimal literal\n",
    "float_literal = 3.14\n",
    "complex_literal = 2 + 3j\n",
    "\n",
    "print(\"Integer literal:\", int_literal)\n",
    "print(\"Float literal:\", float_literal)\n",
    "\n",
    "print(complex_literal, complex_literal.real, complex_literal.imag)\n"
   ]
  },
  {
   "cell_type": "code",
   "execution_count": 4,
   "metadata": {},
   "outputs": [
    {
     "name": "stdout",
     "output_type": "stream",
     "text": [
      "Single quote string: Hello\n",
      "Double quote string: World\n",
      "Multiline string: This is a multiline string\n"
     ]
    }
   ],
   "source": [
    "\n",
    "# String Literals\n",
    "single_quote_str = 'Hello'\n",
    "double_quote_str = \"World\"\n",
    "multiline_str = \"\"\"This is a multiline string\"\"\"\n",
    "\n",
    "print(\"Single quote string:\", single_quote_str)\n",
    "print(\"Double quote string:\", double_quote_str)\n",
    "print(\"Multiline string:\", multiline_str)\n",
    "\n"
   ]
  },
  {
   "cell_type": "code",
   "execution_count": 5,
   "metadata": {},
   "outputs": [
    {
     "name": "stdout",
     "output_type": "stream",
     "text": [
      "Boolean literals: True False\n"
     ]
    }
   ],
   "source": [
    "\n",
    "# Boolean Literals\n",
    "true_literal = True\n",
    "false_literal = False\n",
    "\n",
    "print(\"Boolean literals:\", true_literal, false_literal)\n"
   ]
  },
  {
   "cell_type": "code",
   "execution_count": 6,
   "metadata": {},
   "outputs": [
    {
     "name": "stdout",
     "output_type": "stream",
     "text": [
      "Special literal: None\n",
      "List literal: [1, 2, 3, 'Python']\n",
      "Tuple literal: (1, 2, 3, 'Tuple')\n",
      "Dictionary literal: {'name': 'Alice', 'age': 25}\n",
      "Set literal: {1, 2, 3}\n"
     ]
    }
   ],
   "source": [
    "\n",
    "# Special Literal\n",
    "none_literal = None\n",
    "\n",
    "print(\"Special literal:\", none_literal)\n",
    "\n",
    "# Collection Literals\n",
    "list_literal = [1, 2, 3, \"Python\"]\n",
    "tuple_literal = (1, 2, 3, \"Tuple\")\n",
    "dict_literal = {\"name\": \"Alice\", \"age\": 25}\n",
    "set_literal = {1, 2, 3, 3, 2, 1}\n",
    "\n",
    "print(\"List literal:\", list_literal)\n",
    "print(\"Tuple literal:\", tuple_literal)\n",
    "print(\"Dictionary literal:\", dict_literal)\n",
    "print(\"Set literal:\", set_literal)"
   ]
  }
 ],
 "metadata": {
  "kernelspec": {
   "display_name": "Python 3",
   "language": "python",
   "name": "python3"
  },
  "language_info": {
   "codemirror_mode": {
    "name": "ipython",
    "version": 3
   },
   "file_extension": ".py",
   "mimetype": "text/x-python",
   "name": "python",
   "nbconvert_exporter": "python",
   "pygments_lexer": "ipython3",
   "version": "3.12.2"
  }
 },
 "nbformat": 4,
 "nbformat_minor": 2
}
