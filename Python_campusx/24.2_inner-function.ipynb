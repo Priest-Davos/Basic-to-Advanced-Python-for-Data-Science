{
 "cells": [
  {
   "cell_type": "markdown",
   "metadata": {},
   "source": [
    "## Inner Function"
   ]
  },
  {
   "cell_type": "markdown",
   "metadata": {},
   "source": [
    "In Python, an inner function is a function defined within another function. This concept is also known as a nested function. Inner functions can be useful for encapsulating functionality and managing scope.\n",
    "\n",
    "### Characteristics of Inner Functions\n",
    "\n",
    "1. **Scope**: Inner functions have access to the variables in their enclosing (outer) function. This means they can use and modify variables defined in the outer function's scope.\n",
    "\n",
    "2. **Encapsulation**: They help in organizing code by breaking it down into smaller, reusable pieces within the context of another function.\n",
    "\n",
    "3. **Closure**: Inner functions can form closures, which means they can remember and access the variables from their enclosing scope even after the outer function has finished execution.\n",
    "\n",
    "### Example of Inner Functions\n",
    "\n",
    "Here's a simple example of an inner function in Python:\n",
    "\n",
    "```python\n",
    "def outer_function(x):\n",
    "    def inner_function(y):\n",
    "        return y + x\n",
    "    return inner_function\n",
    "\n",
    "# Create a function that adds 5 to its argument\n",
    "add_five = outer_function(5)\n",
    "\n",
    "# Use the inner function\n",
    "result = add_five(10)  # This will add 5 to 10\n",
    "print(result)  # Output: 15\n",
    "```\n",
    "\n",
    "### Explanation\n",
    "\n",
    "- **`outer_function(x)`**: This is the outer function that takes an argument `x`.\n",
    "- **`inner_function(y)`**: This is the inner function defined within `outer_function`. It takes an argument `y` and returns `y + x`.\n",
    "- **`outer_function(5)`**: When called, it returns `inner_function` with `x` set to `5`. This means `add_five` is a reference to `inner_function` with `x` bound to `5`.\n",
    "- **`add_five(10)`**: This calls `inner_function` with `y` set to `10`, effectively returning `10 + 5 = 15`.\n",
    "\n",
    "### Closures\n",
    "\n",
    "Closures occur when an inner function captures the environment in which it was created. Here's an example:\n",
    "\n",
    "```python\n",
    "def make_multiplier(factor):\n",
    "    def multiplier(number):\n",
    "        return number * factor\n",
    "    return multiplier\n",
    "\n",
    "# Create a multiplier function that multiplies by 3\n",
    "times_three = make_multiplier(3)\n",
    "\n",
    "print(times_three(9))  # Output: 27\n",
    "```\n",
    "\n",
    "### Explanation\n",
    "\n",
    "- **`make_multiplier(factor)`**: Outer function that takes `factor` and returns `multiplier` function.\n",
    "- **`multiplier(number)`**: Inner function that uses `factor` from the outer scope.\n",
    "- **`times_three = make_multiplier(3)`**: `times_three` is a function that multiplies its argument by `3`. The `factor` variable is closed over and remembered.\n",
    "\n",
    "### Use Cases for Inner Functions\n",
    "\n",
    "1. **Encapsulation**: Keep helper functions hidden inside a function where they are used.\n",
    "2. **Closures**: Create functions that maintain state or context.\n",
    "3. **Code Organization**: Break down complex functions into smaller, manageable pieces.\n",
    "\n",
    "### Summary\n",
    "\n",
    "- **Inner Functions**: Functions defined within other functions.\n",
    "- **Scope and Encapsulation**: Inner functions have access to variables in their enclosing function and can help organize code.\n",
    "- **Closures**: Inner functions can remember the environment in which they were created, capturing and preserving variables from the outer scope."
   ]
  }
 ],
 "metadata": {
  "kernelspec": {
   "display_name": "Python 3",
   "language": "python",
   "name": "python3"
  },
  "language_info": {
   "codemirror_mode": {
    "name": "ipython",
    "version": 3
   },
   "file_extension": ".py",
   "mimetype": "text/x-python",
   "name": "python",
   "nbconvert_exporter": "python",
   "pygments_lexer": "ipython3",
   "version": "3.12.2"
  }
 },
 "nbformat": 4,
 "nbformat_minor": 2
}
