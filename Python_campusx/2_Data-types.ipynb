{
 "cells": [
  {
   "cell_type": "markdown",
   "metadata": {},
   "source": [
    "types\n",
    "1) basic-int , float, complex, bool , str , none\n",
    "2) container- list, tuple . set , frozenSet , dictionary, bytes and byte arrays\n",
    "3) Bytes and Byte Arrays\n",
    "4) userdefined-class"
   ]
  },
  {
   "cell_type": "markdown",
   "metadata": {},
   "source": [
    "## 1. Basic Types\n",
    "\n",
    "### 1.1 Integer (`int`)\n",
    "**Usage:** Used for whole numbers without a decimal point.  \n",
    "**Example:** `age = 42`  \n",
    "**Common Operations:** Arithmetic operations, comparisons.\n",
    "\n",
    "### 1.2 Floating Point (`float`)\n",
    "**Usage:** Used for numbers with a decimal point.  \n",
    "**Example:** `height = 5.9`  \n",
    "**Common Operations:** Arithmetic operations, comparisons.\n",
    "\n",
    "### 1.3 Complex Number (`complex`)\n",
    "**Usage:** Used for complex numbers with real and imaginary parts.  \n",
    "**Example:** `number = 1 + 2j`  \n",
    "**Common Operations:** Arithmetic operations, accessing real and imaginary parts.\n",
    "\n",
    "### 1.4 Boolean (`bool`)\n",
    "**Usage:** Used for true or false values.  \n",
    "**Example:** `is_student = True`  \n",
    "**Common Operations:** Logical operations, control flow conditions.\n",
    "\n",
    "### 1.5 String (`str`)\n",
    "**Usage:** Used for sequences of characters (text).  \n",
    "**Example:** `name = \"Alice\"`  \n",
    "**Common Operations:** Concatenation, slicing, formatting.\n",
    "\n",
    "### 1.6 None Type (`NoneType`)\n",
    "**Usage:** Used to represent the absence of a value.  \n",
    "**Example:** `result = None`  \n",
    "**Common Operations:** Comparisons, placeholder for optional values.\n",
    "\n",
    "## 2. Container Types\n",
    "\n",
    "### 2.1 List (`list`)\n",
    "\n",
    "**Usage:** Used for ordered, mutable collections of items.  \n",
    "**Example:** `fruits = [\"apple\", \"banana\", \"cherry\"]`  \n",
    "**Common Operations:** Indexing, appending, slicing, iteration.\n",
    "\n",
    "### 2.2 Tuple (`tuple`)\n",
    "**Usage:** Used for ordered, immutable collections of items.  \n",
    "**Example:** `coordinates = (10.0, 20.0)`  \n",
    "**Common Operations:** Indexing, unpacking, iteration.\n",
    "\n",
    "### 2.3 Set (`set`)\n",
    "**Usage:** Used for unordered collections of unique items.  \n",
    "**Example:** `unique_numbers = {1, 2, 3, 4}`  \n",
    "**Common Operations:** Adding/removing elements, set operations (union, intersection).\n",
    "\n",
    "### 2.4 Frozen Set (`frozenset`)\n",
    "**Usage:** Used for immutable sets.  \n",
    "**Example:** `immutable_set = frozenset([1, 2, 3])`  \n",
    "**Common Operations:** Set operations, comparisons.\n",
    "\n",
    "### 2.5 Dictionary (`dict`)\n",
    "**Usage:** Used for collections of key-value pairs.  \n",
    "**Example:** `person = {\"name\": \"Alice\", \"age\": 30}`  \n",
    "**Common Operations:** Accessing values by keys, adding/updating/deleting key-value pairs, iteration.\n",
    "\n",
    "## 3. Bytes and Byte Arrays\n",
    "\n",
    "### 3.1 Bytes (`bytes`)\n",
    "**Usage:** Used for immutable sequences of bytes.  \n",
    "**Example:** `data = b'hello'`  \n",
    "**Common Operations:** Indexing, slicing, decoding to string.\n",
    "\n",
    "### 3.2 Byte Array (`bytearray`)\n",
    "**Usage:** Used for mutable sequences of bytes.  \n",
    "**Example:** `mutable_data = bytearray(b'hello')`  \n",
    "**Common Operations:** Indexing, slicing, modifying elements.\n",
    "\n",
    "### 3.3 Memory View (`memoryview`)\n",
    "**Usage:** Used to access the memory of other binary objects without copying.  \n",
    "**Example:** `view = memoryview(b'hello')`  \n",
    "**Common Operations:** Indexing, slicing, sharing memory.\n",
    "\n",
    "## 4. User-Defined Types\n",
    "\n",
    "### 4.1 Class\n",
    "**Usage:** Used to create custom data types with attributes and methods.\n"
   ]
  },
  {
   "cell_type": "code",
   "execution_count": 4,
   "metadata": {},
   "outputs": [],
   "source": [
    "# All code examples "
   ]
  },
  {
   "cell_type": "code",
   "execution_count": 5,
   "metadata": {},
   "outputs": [
    {
     "name": "stdout",
     "output_type": "stream",
     "text": [
      "Integer: 42\n",
      "Float: 3.14\n",
      "Complex: (1+2j)\n",
      "Boolean: True\n",
      "String: hello\n",
      "None: None\n",
      "List: [1, 2, 3]\n",
      "Tuple: (1, 2, 3)\n",
      "Set: {1, 2, 3}\n",
      "Frozen Set: frozenset({1, 2, 3})\n",
      "Dictionary: {'key': 'value'}\n",
      "Bytes: b'hello'\n",
      "Byte Array: bytearray(b'hello')\n",
      "Memory View: <memory at 0x000002327F309480>\n",
      "Person: Alice 30\n"
     ]
    }
   ],
   "source": [
    "# Basic Types\n",
    "integer_example = 42\n",
    "float_example = 3.14\n",
    "complex_example = 1 + 2j\n",
    "boolean_example = True\n",
    "string_example = \"hello\"\n",
    "none_example = None\n",
    "\n",
    "# Container Types\n",
    "list_example = [1, 2, 3]\n",
    "tuple_example = (1, 2, 3)\n",
    "set_example = {1, 2, 3}\n",
    "frozenset_example = frozenset([1, 2, 3])\n",
    "dict_example = {\"key\": \"value\"}\n",
    "bytes_example = b'hello'\n",
    "bytearray_example = bytearray(b'hello')\n",
    "memoryview_example = memoryview(b'hello')\n",
    "\n",
    "# User-Defined Type\n",
    "class Person:\n",
    "    def __init__(self, name, age):\n",
    "        self.name = name\n",
    "        self.age = age\n",
    "\n",
    "person_example = Person(\"Alice\", 30)\n",
    "\n",
    "# Printing examples\n",
    "print(\"Integer:\", integer_example)\n",
    "print(\"Float:\", float_example)\n",
    "print(\"Complex:\", complex_example)\n",
    "print(\"Boolean:\", boolean_example)\n",
    "print(\"String:\", string_example)\n",
    "print(\"None:\", none_example)\n",
    "print(\"List:\", list_example)\n",
    "print(\"Tuple:\", tuple_example)\n",
    "print(\"Set:\", set_example)\n",
    "print(\"Frozen Set:\", frozenset_example)\n",
    "print(\"Dictionary:\", dict_example)\n",
    "print(\"Bytes:\", bytes_example)\n",
    "print(\"Byte Array:\", bytearray_example)\n",
    "print(\"Memory View:\", memoryview_example)\n",
    "print(\"Person:\", person_example.name, person_example.age)\n"
   ]
  },
  {
   "cell_type": "code",
   "execution_count": 9,
   "metadata": {},
   "outputs": [
    {
     "name": "stdout",
     "output_type": "stream",
     "text": [
      "1e+308\n",
      "inf\n"
     ]
    }
   ],
   "source": [
    "print(1e308) #10 raise to the power 308\n",
    "print(1e309)"
   ]
  }
 ],
 "metadata": {
  "kernelspec": {
   "display_name": "Python 3",
   "language": "python",
   "name": "python3"
  },
  "language_info": {
   "codemirror_mode": {
    "name": "ipython",
    "version": 3
   },
   "file_extension": ".py",
   "mimetype": "text/x-python",
   "name": "python",
   "nbconvert_exporter": "python",
   "pygments_lexer": "ipython3",
   "version": "3.12.2"
  }
 },
 "nbformat": 4,
 "nbformat_minor": 2
}
