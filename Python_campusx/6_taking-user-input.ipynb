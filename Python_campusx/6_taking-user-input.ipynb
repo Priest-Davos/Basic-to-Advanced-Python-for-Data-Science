{
 "cells": [
  {
   "cell_type": "markdown",
   "metadata": {},
   "source": [
    "* static s/w-> cant take input from user.. eg.clock, gov site etc\n",
    "* dynamic s/w -0 yt whatsapp, swiggy , current generation s/w"
   ]
  },
  {
   "cell_type": "markdown",
   "metadata": {},
   "source": [
    "The `input()` function in Python is used to take input from the user. It reads a line of text from the standard input (usually the keyboard) and returns it as a string. This function is commonly used for interactive programs where you need to get user data.\n",
    "\n",
    "### Basic Usage\n",
    "\n",
    "The `input()` function can be used in its simplest form as follows:\n",
    "\n",
    "```python\n",
    "user_input = input()\n",
    "print(\"You entered:\", user_input)\n",
    "```\n",
    "\n",
    "### Prompting the User\n",
    "\n",
    "You can pass a string to the `input()` function as an argument to display a prompt to the user, indicating what kind of input is expected:\n",
    "\n",
    "```python\n",
    "user_name = input(\"Enter your name: \")\n",
    "print(\"Hello, \" + user_name + \"!\")\n",
    "```\n",
    "\n",
    "### Type Conversion\n",
    "\n",
    "Since the `input()` function always returns a string, you may need to convert the input to another type, such as an integer or a float, if you expect a numeric input. This can be done using type conversion functions like `int()`, `float()`, etc.\n"
   ]
  },
  {
   "cell_type": "markdown",
   "metadata": {},
   "source": [
    "## -> why input() function always returns a string\n",
    "\n"
   ]
  },
  {
   "cell_type": "markdown",
   "metadata": {},
   "source": [
    "The `input()` function in Python always returns a string because user input is typically read as text. This design choice provides flexibility and simplicity in handling input. Here are some reasons why the `input()` function returns a string:\n",
    "\n",
    "### 1. **Simplicity and Flexibility**\n",
    "\n",
    "Returning input as a string simplifies the function’s implementation and usage. It allows the function to handle any type of input, whether it's text, numbers, or special characters, without the need for complex type inference or conversion logic.\n",
    "\n",
    "### 2. **Universal Text Handling**\n",
    "\n",
    "Text is a universal data format that can represent any input. By treating all input as strings, Python avoids issues that could arise from trying to automatically determine and convert input types. Users can then explicitly convert strings to other types as needed.\n",
    "\n",
    "### 3. **Avoiding Ambiguity**\n",
    "\n",
    "Automatically determining and converting the type of input could lead to ambiguities and errors. For example, input like `1e4` could be interpreted as a float or a string. By always returning a string, Python ensures that the input is handled consistently and unambiguously.\n",
    "\n",
    "### 4. **Ease of Use for Beginners**\n",
    "\n",
    "Python is designed to be an easy-to-learn language, especially for beginners. Having `input()` return a string makes it straightforward to get started with simple text processing and avoids introducing complexities related to automatic type conversions.\n",
    "\n"
   ]
  },
  {
   "cell_type": "code",
   "execution_count": 4,
   "metadata": {},
   "outputs": [
    {
     "name": "stdout",
     "output_type": "stream",
     "text": [
      "You entered: this is entered text\n"
     ]
    }
   ],
   "source": [
    "user_input = input()\n",
    "print(\"You entered:\", user_input)"
   ]
  },
  {
   "cell_type": "code",
   "execution_count": 5,
   "metadata": {},
   "outputs": [
    {
     "data": {
      "text/plain": [
       "str"
      ]
     },
     "execution_count": 5,
     "metadata": {},
     "output_type": "execute_result"
    }
   ],
   "source": [
    "type(user_input)"
   ]
  }
 ],
 "metadata": {
  "kernelspec": {
   "display_name": "Python 3",
   "language": "python",
   "name": "python3"
  },
  "language_info": {
   "codemirror_mode": {
    "name": "ipython",
    "version": 3
   },
   "file_extension": ".py",
   "mimetype": "text/x-python",
   "name": "python",
   "nbconvert_exporter": "python",
   "pygments_lexer": "ipython3",
   "version": "3.12.2"
  }
 },
 "nbformat": 4,
 "nbformat_minor": 2
}
