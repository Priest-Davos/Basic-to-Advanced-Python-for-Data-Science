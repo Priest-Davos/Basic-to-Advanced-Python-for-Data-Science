{
 "cells": [
  {
   "cell_type": "markdown",
   "metadata": {},
   "source": [
    "print() function is used to output text or other data to the console or terminal."
   ]
  },
  {
   "cell_type": "markdown",
   "metadata": {},
   "source": [
    " Syntax: print(*objects, sep=' ', end='\\n', file=sys.stdout, flush=False)\n"
   ]
  },
  {
   "cell_type": "markdown",
   "metadata": {},
   "source": [
    "Parameters:\n",
    "1) objects: One or more objects to be printed. These are converted to strings and concatenated to form the output.\n",
    "2) sep: Separator between the objects. Default is a single space ' '.\n",
    "3) end: Ending character or string appended after the last object. Default is a newline '\\n'.\n",
    "4) file: A file-like object (e.g., sys.stdout, sys.stderr) where the output is directed. Default is standard output (sys.stdout).\n",
    "5) flush: If True, the output is forcibly flushed. Default is False.\n"
   ]
  },
  {
   "cell_type": "code",
   "execution_count": 6,
   "metadata": {
    "notebookRunGroups": {
     "groupValue": "2"
    }
   },
   "outputs": [
    {
     "name": "stdout",
     "output_type": "stream",
     "text": [
      "my name is  khan\n"
     ]
    }
   ],
   "source": [
    "#Concatenating Output:\n",
    "print(\"my name is\", \"khan\")"
   ]
  },
  {
   "cell_type": "code",
   "execution_count": 15,
   "metadata": {},
   "outputs": [
    {
     "name": "stdout",
     "output_type": "stream",
     "text": [
      "normal :-  1 2 3 4 5\n",
      "using sep :- > 1 > 2 > 3 > 4 > 5\n"
     ]
    }
   ],
   "source": [
    "# sep Parameter:Use sep to control how multiple items are separated in the output.\n",
    "print(\"normal :- \",1,2,3,4,5)\n",
    "print(\"using sep :-\",1,2,3,4,5, sep=\" > \")\n"
   ]
  },
  {
   "cell_type": "code",
   "execution_count": 18,
   "metadata": {},
   "outputs": [
    {
     "name": "stdout",
     "output_type": "stream",
     "text": [
      "Hello, world!\n"
     ]
    }
   ],
   "source": [
    "# Changing end Character: by default->\"\\n\"\n",
    "print(\"Hello,\", end=\" \")\n",
    "print(\"world!\")\n"
   ]
  },
  {
   "cell_type": "code",
   "execution_count": 20,
   "metadata": {},
   "outputs": [],
   "source": [
    "# file and flush parameter will see later"
   ]
  },
  {
   "cell_type": "code",
   "execution_count": 23,
   "metadata": {},
   "outputs": [
    {
     "name": "stdout",
     "output_type": "stream",
     "text": [
      "The price of apple is $0.75\n"
     ]
    }
   ],
   "source": [
    "# Formatted Strings (f-strings):\n",
    "item = \"apple\"\n",
    "price = 0.75\n",
    "print(f\"The price of {item} is ${price:.2f}\")\n"
   ]
  }
 ],
 "metadata": {
  "kernelspec": {
   "display_name": "Python 3",
   "language": "python",
   "name": "python3"
  },
  "language_info": {
   "codemirror_mode": {
    "name": "ipython",
    "version": 3
   },
   "file_extension": ".py",
   "mimetype": "text/x-python",
   "name": "python",
   "nbconvert_exporter": "python",
   "pygments_lexer": "ipython3",
   "version": "3.12.2"
  }
 },
 "nbformat": 4,
 "nbformat_minor": 2
}
