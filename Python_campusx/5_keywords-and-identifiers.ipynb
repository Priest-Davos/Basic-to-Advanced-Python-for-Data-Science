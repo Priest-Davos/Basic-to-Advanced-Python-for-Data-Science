{
 "cells": [
  {
   "cell_type": "markdown",
   "metadata": {},
   "source": [
    "### -> Keywords\n",
    "\n",
    "Keywords in Python are reserved words that have special meaning to the interpreter. These words cannot be used as identifiers (names for variables, functions, classes, etc.). Keywords are used to define the syntax and structure of the Python language.\n",
    "\n",
    "Here is a list of Python keywords (as of Python 3.10):\n",
    "\n",
    "```python\n",
    "False      await      else       import     pass\n",
    "None       break      except     in         raise\n",
    "True       class      finally    is         return\n",
    "and        continue   for        lambda     try\n",
    "as         def        from       nonlocal   while\n",
    "assert     del        global     not        with\n",
    "async      elif       if         or         yield\n",
    "```\n",
    "\n",
    "### -> Identifiers\n",
    "\n",
    "Identifiers are names used to identify variables, functions, classes, modules, and other objects. An identifier starts with a letter (A-Z or a-z) or an underscore (`_`) followed by zero or more letters, underscores, and digits (0-9).\n",
    "\n",
    "### Rules for Identifiers\n",
    "\n",
    "1. **Must begin with a letter (A-Z or a-z) or underscore (`_`).**\n",
    "2. **Cannot begin with a digit.**\n",
    "3. **Can only contain alphanumeric characters and underscores (A-z, 0-9, and _).**\n",
    "4. **Case-sensitive**: `myVar` and `myvar` are different identifiers.\n",
    "5. **Cannot be a keyword**.\n",
    "\n",
    "### Naming Conventions\n",
    "\n",
    "1. **Variable Names**: Use lowercase words separated by underscores (`_`) (snake_case).\n",
    "   - Example: `my_variable`, `user_age`\n",
    "\n",
    "2. **Function Names**: Use lowercase words separated by underscores (`_`) (snake_case).\n",
    "   - Example: `calculate_total()`, `get_user_name()`\n",
    "\n",
    "3. **Class Names**: Use capitalized words without underscores (PascalCase).\n",
    "   - Example: `Person`, `Employee`\n",
    "\n",
    "4. **Constants**: Use all uppercase letters with underscores to separate words (UPPERCASE_SNAKE_CASE).\n",
    "   - Example: `MAX_SIZE`, `PI`\n",
    "\n",
    "### Examples\n",
    "\n",
    "#### Keywords\n",
    "\n",
    "Here are some examples using Python keywords:\n",
    "\n",
    "```python\n",
    "# Defining a function\n",
    "def my_function():\n",
    "    pass  # A placeholder for code\n",
    "\n",
    "# Using conditional statements\n",
    "if True:\n",
    "    print(\"This is true\")\n",
    "else:\n",
    "    print(\"This is false\")\n",
    "\n",
    "# Using a loop\n",
    "for i in range(5):\n",
    "    print(i)\n",
    "```\n",
    "\n",
    "#### Identifiers\n",
    "\n",
    "Here are some examples of valid and invalid identifiers:\n",
    "\n",
    "```python\n",
    "# Valid identifiers\n",
    "my_variable = 10\n",
    "_my_variable = 20\n",
    "myVariable = 30\n",
    "my_variable2 = 40\n",
    "\n",
    "# Invalid identifiers (will cause SyntaxError)\n",
    "# 2my_variable = 50\n",
    "# my-variable = 60\n",
    "# my variable = 70\n",
    "\n",
    "# Case sensitivity\n",
    "age = 25\n",
    "Age = 30\n",
    "print(age)  # Output: 25\n",
    "print(Age)  # Output: 30\n",
    "```\n"
   ]
  },
  {
   "cell_type": "code",
   "execution_count": 1,
   "metadata": {},
   "outputs": [
    {
     "name": "stdout",
     "output_type": "stream",
     "text": [
      "['False', 'None', 'True', 'and', 'as', 'assert', 'async', 'await', 'break', 'class', 'continue', 'def', 'del', 'elif', 'else', 'except', 'finally', 'for', 'from', 'global', 'if', 'import', 'in', 'is', 'lambda', 'nonlocal', 'not', 'or', 'pass', 'raise', 'return', 'try', 'while', 'with', 'yield']\n"
     ]
    }
   ],
   "source": [
    "import keyword\n",
    "print(keyword.kwlist)"
   ]
  }
 ],
 "metadata": {
  "kernelspec": {
   "display_name": "Python 3",
   "language": "python",
   "name": "python3"
  },
  "language_info": {
   "codemirror_mode": {
    "name": "ipython",
    "version": 3
   },
   "file_extension": ".py",
   "mimetype": "text/x-python",
   "name": "python",
   "nbconvert_exporter": "python",
   "pygments_lexer": "ipython3",
   "version": "3.12.2"
  }
 },
 "nbformat": 4,
 "nbformat_minor": 2
}
